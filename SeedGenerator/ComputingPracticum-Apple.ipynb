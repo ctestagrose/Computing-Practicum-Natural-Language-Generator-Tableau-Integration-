{
 "cells": [
  {
   "cell_type": "markdown",
   "id": "0712e908",
   "metadata": {},
   "source": [
    "# Imports"
   ]
  },
  {
   "cell_type": "code",
   "execution_count": 1,
   "id": "691ce9f4",
   "metadata": {},
   "outputs": [],
   "source": [
    "import pandas as pd\n",
    "import numpy as np\n",
    "import matplotlib.pyplot as plt\n",
    "import seaborn as sns\n",
    "import statsmodels.api as sm\n",
    "import json"
   ]
  },
  {
   "cell_type": "markdown",
   "id": "9e3d4dc1",
   "metadata": {},
   "source": [
    "# Dictionary Creator"
   ]
  },
  {
   "cell_type": "code",
   "execution_count": 90,
   "id": "c98fb388",
   "metadata": {},
   "outputs": [],
   "source": [
    "def toDict(label, dataframe, number):\n",
    "    Dict = {}\n",
    "    col = dataframe.columns.values.tolist()    \n",
    "    if(number == 0):        \n",
    "        Dict['Label'] = label\n",
    "        Dict['Graphs'] = int(1)\n",
    "        Dict['X'] = col[0]\n",
    "        Dict['Y'] = col[1]\n",
    "        trange = []\n",
    "        trange.append(dataframe.at[0, col[0]])\n",
    "        trange.append(dataframe.at[dataframe.last_valid_index(), col[0]])\n",
    "        Dict['Years'] = trange\n",
    "        vrange = []\n",
    "        vrange.append(dataframe.at[0, col[1]])\n",
    "        vrange.append(int(dataframe.at[dataframe.last_valid_index(), col[1]]))\n",
    "        Dict['Values'] = vrange\n",
    "        growth = vrange[1] - vrange[0]\n",
    "        Dict['Growth'] = int(growth)\n",
    "        if(growth >= 0):\n",
    "            Dict['Trend'] = \"Increase\"\n",
    "        else:\n",
    "            Dict['Trend'] = \"Decrease\"\n",
    "    elif(number == 1):            \n",
    "        Dict['Label'] = label\n",
    "        Dict['Graphs'] = int(number)\n",
    "        Dict['X'] = col[0]\n",
    "        Dict['Y'] = col[1]        \n",
    "        Dict['Years'] = dataframe[col[0]].tolist()\n",
    "        values = dataframe[col[1]].tolist()\n",
    "        values = [int(i) for i in values]\n",
    "        Dict['Values'] = values\n",
    "        growth = values[-1] - values[0]\n",
    "        Dict['Growth'] = int(growth)\n",
    "        if(growth >= 0):\n",
    "            Dict['Trend'] = \"Increase\"\n",
    "        else:\n",
    "            Dict['Trend'] = \"Decrease\"\n",
    "    else:\n",
    "        Dict['Label'] = label\n",
    "        Dict['Graphs'] = int(number)\n",
    "        Dict['X'] = col[1]\n",
    "        Dict['Y'] = col[2]        \n",
    "        j = 0\n",
    "        for i in range(number):\n",
    "            Dict[i] = {}\n",
    "            years = []\n",
    "            values = []\n",
    "            typei = dataframe.at[j, col[0]]\n",
    "            while True:\n",
    "                years.append(dataframe.at[j, col[1]])\n",
    "                values.append(int(dataframe.at[j, col[2]]))\n",
    "                j += 1\n",
    "                if(j > dataframe.last_valid_index()):\n",
    "                    break\n",
    "                if(typei != dataframe.at[j, col[0]]):\n",
    "                    break\n",
    "            Dict[i]['Label'] = typei\n",
    "            Dict[i]['Years'] = years\n",
    "            Dict[i]['Values'] = values\n",
    "            growth = values[-1] - values[0]\n",
    "            Dict[i]['Growth'] = int(growth)\n",
    "            if(growth >= 0):\n",
    "                Dict[i]['Trend'] = \"Increase\"\n",
    "            else:\n",
    "                Dict[i]['Trend'] = \"Decrease\"\n",
    "    return Dict"
   ]
  },
  {
   "cell_type": "markdown",
   "id": "72eda2f8",
   "metadata": {},
   "source": [
    "# CSV Reading"
   ]
  },
  {
   "cell_type": "code",
   "execution_count": 91,
   "id": "b6dcf0e0",
   "metadata": {},
   "outputs": [],
   "source": [
    "data = pd.read_csv(r'Apple Balance Sheet.csv')\n",
    "BS = pd.DataFrame(data)\n",
    "BS.dropna()\n",
    "BS = BS.set_index(\"Column Name\")\n",
    "#print(BS.info())\n",
    "#print(BS.head())"
   ]
  },
  {
   "cell_type": "code",
   "execution_count": 92,
   "id": "800cce0f",
   "metadata": {},
   "outputs": [],
   "source": [
    "data = pd.read_csv(r'Apple Income Statement.csv')\n",
    "IS = pd.DataFrame(data)\n",
    "IS.dropna()\n",
    "IS = IS.set_index(\"Column Name\")\n",
    "#print(IS.info())\n",
    "#print(IS.head())"
   ]
  },
  {
   "cell_type": "code",
   "execution_count": 93,
   "id": "7e024414",
   "metadata": {},
   "outputs": [],
   "source": [
    "data = pd.read_csv(r'Apple Stock Price.csv')\n",
    "SP = pd.DataFrame(data)\n",
    "#print(SP.info())\n",
    "#print(SP.head())"
   ]
  },
  {
   "cell_type": "markdown",
   "id": "a73e3c23",
   "metadata": {},
   "source": [
    "# Balance Sheet"
   ]
  },
  {
   "cell_type": "code",
   "execution_count": 94,
   "id": "c2c56661",
   "metadata": {},
   "outputs": [],
   "source": [
    "Type = []\n",
    "Year = []\n",
    "Money = []\n",
    "c = [\"Total assets\", \"Total liabilities\", \"Total stockholders’ equity\"]\n",
    "r = BS.columns.values.tolist()\n",
    "\n",
    "for i in c:    \n",
    "    for j in r:\n",
    "        Type.append(i)\n",
    "        Year.append(j)\n",
    "        Money.append(BS.at[i,j])\n",
    "\n",
    "BSC = pd.DataFrame(list(zip(Type, Year, Money)), columns =[\"Type\", \"Year\", \"Money\"])\n"
   ]
  },
  {
   "cell_type": "code",
   "execution_count": 95,
   "id": "88c13baf",
   "metadata": {},
   "outputs": [
    {
     "name": "stdout",
     "output_type": "stream",
     "text": [
      "                         Type  Year     Money\n",
      "0                Total assets  2019  338516.0\n",
      "1                Total assets  2020  323888.0\n",
      "2                Total assets  2021  351002.0\n",
      "3           Total liabilities  2019  248028.0\n",
      "4           Total liabilities  2020  258549.0\n",
      "5           Total liabilities  2021  287912.0\n",
      "6  Total stockholders’ equity  2019   90488.0\n",
      "7  Total stockholders’ equity  2020   65339.0\n",
      "8  Total stockholders’ equity  2021   63090.0\n"
     ]
    }
   ],
   "source": [
    "print(BSC)"
   ]
  },
  {
   "cell_type": "code",
   "execution_count": 96,
   "id": "48cc62d4",
   "metadata": {
    "scrolled": true
   },
   "outputs": [
    {
     "data": {
      "text/plain": [
       "<Figure size 576x576 with 0 Axes>"
      ]
     },
     "metadata": {},
     "output_type": "display_data"
    },
    {
     "data": {
      "image/png": "[encoded data removed]",
      "text/plain": [
       "<Figure size 604.8x288 with 3 Axes>"
      ]
     },
     "metadata": {
      "needs_background": "light"
     },
     "output_type": "display_data"
    }
   ],
   "source": [
    "plt.figure(figsize=(8, 8))\n",
    "db1 = sns.catplot(x=\"Year\", y=\"Money\", col=\"Type\",data=BSC, kind=\"bar\",height=4, aspect=.7, color='slateblue')\n",
    "db1.fig.subplots_adjust(top=0.85)\n",
    "db1.fig.suptitle('Balance Sheet')\n",
    "plt.savefig('ADashboard1.png')"
   ]
  },
  {
   "cell_type": "code",
   "execution_count": 97,
   "id": "f030303e",
   "metadata": {},
   "outputs": [
    {
     "name": "stdout",
     "output_type": "stream",
     "text": [
      "{'Label': 'Balance Sheet', 'Graphs': 3, 'X': 'Year', 'Y': 'Money', 0: {'Label': 'Total assets', 'Years': ['2019', '2020', '2021'], 'Values': [338516, 323888, 351002], 'Growth': 12486, 'Trend': 'Increase'}, 1: {'Label': 'Total liabilities', 'Years': ['2019', '2020', '2021'], 'Values': [248028, 258549, 287912], 'Growth': 39884, 'Trend': 'Increase'}, 2: {'Label': 'Total stockholders’ equity', 'Years': ['2019', '2020', '2021'], 'Values': [90488, 65339, 63090], 'Growth': -27398, 'Trend': 'Decrease'}}\n"
     ]
    }
   ],
   "source": [
    "label = \"Balance Sheet\"\n",
    "Dashboard1 = toDict(label, BSC, 3)\n",
    "print(Dashboard1)"
   ]
  },
  {
   "cell_type": "markdown",
   "id": "4fd63452",
   "metadata": {},
   "source": [
    "# Retained Earnings"
   ]
  },
  {
   "cell_type": "code",
   "execution_count": 98,
   "id": "27066abc",
   "metadata": {},
   "outputs": [],
   "source": [
    "Year = BS.columns.values.tolist()\n",
    "Money = []\n",
    "Type = \"Retained earnings\"\n",
    "\n",
    "for i in Year:\n",
    "    Money.append(BS.at[Type, i])\n",
    "    \n",
    "RE = pd.DataFrame(list(zip(Year, Money)), columns =[\"Year\", \"Money\"])"
   ]
  },
  {
   "cell_type": "code",
   "execution_count": 99,
   "id": "164e3a8e",
   "metadata": {},
   "outputs": [
    {
     "data": {
      "image/png": "[encoded data removed]",
      "text/plain": [
       "<Figure size 720x360 with 1 Axes>"
      ]
     },
     "metadata": {
      "needs_background": "light"
     },
     "output_type": "display_data"
    }
   ],
   "source": [
    "plt.figure(figsize=(10, 5))\n",
    "db2 = plt.stackplot(RE.Year, RE.Money, color='slateblue');\n",
    "plt.title(\"Retained Earnings\")\n",
    "plt.savefig('ADashboard2.png')"
   ]
  },
  {
   "cell_type": "code",
   "execution_count": 100,
   "id": "1d4005c2",
   "metadata": {},
   "outputs": [
    {
     "name": "stdout",
     "output_type": "stream",
     "text": [
      "{'Label': 'Retained Earnings', 'Graphs': 1, 'X': 'Year', 'Y': 'Money', 'Years': ['2019', '2020', '2021'], 'Values': [45898, 14966, 5562], 'Growth': -40336, 'Trend': 'Decrease'}\n"
     ]
    }
   ],
   "source": [
    "label = \"Retained Earnings\"\n",
    "Dashboard2 = toDict(label, RE, 1)\n",
    "print(Dashboard2)"
   ]
  },
  {
   "cell_type": "markdown",
   "id": "af66bd75",
   "metadata": {},
   "source": [
    "# Income"
   ]
  },
  {
   "cell_type": "code",
   "execution_count": 101,
   "id": "1a0ac8b2",
   "metadata": {},
   "outputs": [],
   "source": [
    "Type = []\n",
    "Year = []\n",
    "Money = []\n",
    "c = [\"Product Sales\", \"Service and other Sales\", \"Other income, net\"]\n",
    "r = IS.columns.values.tolist()\n",
    "\n",
    "for i in c:    \n",
    "    for j in r:\n",
    "        Type.append(i)\n",
    "        Year.append(j)\n",
    "        Money.append(IS.at[i,j])\n",
    "\n",
    "INC = pd.DataFrame(list(zip(Type, Year, Money)), columns =[\"Type\", \"Year\", \"Money\"])"
   ]
  },
  {
   "cell_type": "code",
   "execution_count": 102,
   "id": "bb086fcc",
   "metadata": {},
   "outputs": [
    {
     "data": {
      "text/plain": [
       "<Figure size 576x576 with 0 Axes>"
      ]
     },
     "metadata": {},
     "output_type": "display_data"
    },
    {
     "data": {
      "image/png": "[encoded data removed]",
      "text/plain": [
       "<Figure size 604.8x288 with 3 Axes>"
      ]
     },
     "metadata": {
      "needs_background": "light"
     },
     "output_type": "display_data"
    }
   ],
   "source": [
    "plt.figure(figsize=(8, 8))\n",
    "db3 = sns.catplot(x=\"Year\", y=\"Money\", col=\"Type\",data=INC, kind=\"bar\",height=4, aspect=.7, color ='slateblue')\n",
    "db3.fig.subplots_adjust(top=0.85)\n",
    "db3.fig.suptitle('Income')\n",
    "plt.savefig('ADashboard3.png')"
   ]
  },
  {
   "cell_type": "code",
   "execution_count": 103,
   "id": "bc218d9d",
   "metadata": {},
   "outputs": [
    {
     "name": "stdout",
     "output_type": "stream",
     "text": [
      "{'Label': 'Income', 'Graphs': 3, 'X': 'Year', 'Y': 'Money', 0: {'Label': 'Product Sales', 'Years': ['2019', '2020', '2021'], 'Values': [213883, 220747, 297392], 'Growth': 83509, 'Trend': 'Increase'}, 1: {'Label': 'Service and other Sales', 'Years': ['2019', '2020', '2021'], 'Values': [46291, 53768, 68425], 'Growth': 22134, 'Trend': 'Increase'}, 2: {'Label': 'Other income, net', 'Years': ['2019', '2020', '2021'], 'Values': [1807, 803, 258], 'Growth': -1549, 'Trend': 'Decrease'}}\n"
     ]
    }
   ],
   "source": [
    "label = \"Income\"\n",
    "Dashboard3 = toDict(label, INC, 3)\n",
    "print(Dashboard3)"
   ]
  },
  {
   "cell_type": "markdown",
   "id": "e4ea4cc9",
   "metadata": {},
   "source": [
    "# Expenses"
   ]
  },
  {
   "cell_type": "code",
   "execution_count": 104,
   "id": "a7f68d1f",
   "metadata": {},
   "outputs": [],
   "source": [
    "Type = []\n",
    "Year = []\n",
    "Money = []\n",
    "c = [\"Cost of Product\", \"Cost of Service and other\", \"Research and development\",\n",
    "     \"Selling, general, and administrative\", \"Provision for income taxes\"]\n",
    "r = IS.columns.values.tolist()\n",
    "\n",
    "for i in c:    \n",
    "    for j in r:\n",
    "        Type.append(i)\n",
    "        Year.append(j)\n",
    "        Money.append(IS.at[i,j])\n",
    "\n",
    "EX = pd.DataFrame(list(zip(Type, Year, Money)), columns =[\"Type\", \"Year\", \"Money\"])"
   ]
  },
  {
   "cell_type": "code",
   "execution_count": 105,
   "id": "abeadeb0",
   "metadata": {},
   "outputs": [
    {
     "data": {
      "text/plain": [
       "<Figure size 576x576 with 0 Axes>"
      ]
     },
     "metadata": {},
     "output_type": "display_data"
    },
    {
     "data": {
      "image/png": "[encoded data removed]",
      "text/plain": [
       "<Figure size 1008x288 with 5 Axes>"
      ]
     },
     "metadata": {
      "needs_background": "light"
     },
     "output_type": "display_data"
    }
   ],
   "source": [
    "plt.figure(figsize=(8, 8))\n",
    "db4 = sns.catplot(x=\"Year\", y=\"Money\", col=\"Type\",data=EX, kind=\"bar\",height=4, aspect=.7, color='slateblue')\n",
    "db4.fig.subplots_adjust(top=0.85)\n",
    "db4.fig.suptitle('Expenses')\n",
    "plt.savefig('ADashboard4.png')"
   ]
  },
  {
   "cell_type": "code",
   "execution_count": 106,
   "id": "66b9760f",
   "metadata": {},
   "outputs": [
    {
     "name": "stdout",
     "output_type": "stream",
     "text": [
      "{'Label': 'Expenses', 'Graphs': 5, 'X': 'Year', 'Y': 'Money', 0: {'Label': 'Cost of Product', 'Years': ['2019', '2020', '2021'], 'Values': [144996, 151286, 192266], 'Growth': 47270, 'Trend': 'Increase'}, 1: {'Label': 'Cost of Service and other', 'Years': ['2019', '2020', '2021'], 'Values': [16786, 18273, 20715], 'Growth': 3929, 'Trend': 'Increase'}, 2: {'Label': 'Research and development', 'Years': ['2019', '2020', '2021'], 'Values': [16217, 18752, 21914], 'Growth': 5697, 'Trend': 'Increase'}, 3: {'Label': 'Selling, general, and administrative', 'Years': ['2019', '2020', '2021'], 'Values': [18245, 19916, 21973], 'Growth': 3728, 'Trend': 'Increase'}, 4: {'Label': 'Provision for income taxes', 'Years': ['2019', '2020', '2021'], 'Values': [10481, 9680, 14527], 'Growth': 4046, 'Trend': 'Increase'}}\n"
     ]
    }
   ],
   "source": [
    "label = \"Expenses\"\n",
    "Dashboard4 = toDict(label, EX, 5)\n",
    "print(Dashboard4)"
   ]
  },
  {
   "cell_type": "markdown",
   "id": "7d0e139b",
   "metadata": {},
   "source": [
    "# Stock Chart"
   ]
  },
  {
   "cell_type": "code",
   "execution_count": 107,
   "id": "4408b56b",
   "metadata": {},
   "outputs": [],
   "source": [
    "from datetime import date\n",
    "\n",
    "SP['date_ordinal'] = pd.to_datetime(SP['Date']).apply(lambda date: date.toordinal())"
   ]
  },
  {
   "cell_type": "code",
   "execution_count": 108,
   "id": "41bc198f",
   "metadata": {},
   "outputs": [
    {
     "name": "stderr",
     "output_type": "stream",
     "text": [
      "C:\\Users\\the1b\\AppData\\Local\\Temp\\ipykernel_23568\\4260015761.py:7: UserWarning: FixedFormatter should only be used together with FixedLocator\n",
      "  ax.set_xticklabels(new_labels)\n"
     ]
    },
    {
     "data": {
      "image/png": "[encoded data removed]",
      "text/plain": [
       "<Figure size 1152x576 with 1 Axes>"
      ]
     },
     "metadata": {
      "needs_background": "light"
     },
     "output_type": "display_data"
    }
   ],
   "source": [
    "plt.figure(figsize=(16, 8))\n",
    "plt.suptitle('Stock Chart')\n",
    "ax = sns.regplot(x=\"date_ordinal\", y=\"Close\", data=SP, fit_reg=True, color='slateblue')\n",
    "ax.set_xlim(SP['date_ordinal'].min() - 10, SP['date_ordinal'].max() + 10)\n",
    "ax.set_xlabel('date')\n",
    "new_labels = [date.fromordinal(int(item)) for item in ax.get_xticks()]\n",
    "ax.set_xticklabels(new_labels)\n",
    "plt.savefig('ADashboard5.png')"
   ]
  },
  {
   "cell_type": "code",
   "execution_count": 109,
   "id": "302a79a6",
   "metadata": {},
   "outputs": [
    {
     "name": "stdout",
     "output_type": "stream",
     "text": [
      "           Date       Close   Adj Close     Volume  date_ordinal\n",
      "0      1/2/2019   39.480000   38.277519  148158800        737061\n",
      "1      1/3/2019   35.547501   34.464794  365248800        737062\n",
      "2      1/4/2019   37.064999   35.936081  234428400        737063\n",
      "3      1/7/2019   36.982498   35.856094  219111200        737066\n",
      "4      1/8/2019   37.687500   36.539616  164101200        737067\n",
      "..          ...         ...         ...        ...           ...\n",
      "751  12/23/2021  176.279999  176.055695   68356600        738147\n",
      "752  12/27/2021  180.330002  180.100540   74919600        738151\n",
      "753  12/28/2021  179.289993  179.061859   79144300        738152\n",
      "754  12/29/2021  179.380005  179.151749   62348900        738153\n",
      "755  12/30/2021  178.199997  177.973251   59773000        738154\n",
      "\n",
      "[756 rows x 5 columns]\n"
     ]
    }
   ],
   "source": [
    "SP = SP.drop([\"Open\", \"High\", \"Low\"], axis=1)\n",
    "print(SP)"
   ]
  },
  {
   "cell_type": "code",
   "execution_count": 110,
   "id": "e33685ec",
   "metadata": {},
   "outputs": [
    {
     "name": "stdout",
     "output_type": "stream",
     "text": [
      "{'Label': 'Stock Chart', 'Graphs': 1, 'X': 'Date', 'Y': 'Close', 'Years': ['1/2/2019', '12/30/2021'], 'Values': [39.48, 178], 'Growth': 138, 'Trend': 'Increase'}\n"
     ]
    }
   ],
   "source": [
    "label = \"Stock Chart\"\n",
    "Dashboard5 = toDict(label, SP, 0)\n",
    "print(Dashboard5)"
   ]
  },
  {
   "cell_type": "markdown",
   "id": "49f35b2d",
   "metadata": {},
   "source": [
    "# Earnings Per Share"
   ]
  },
  {
   "cell_type": "code",
   "execution_count": 111,
   "id": "9a2332d2",
   "metadata": {},
   "outputs": [],
   "source": [
    "Type = []\n",
    "Year = []\n",
    "Money = []\n",
    "c = [\"Basic EPS\", \"Diluted EPS\"]\n",
    "r = IS.columns.values.tolist()\n",
    "\n",
    "for i in c:    \n",
    "    for j in r:\n",
    "        Type.append(i)\n",
    "        Year.append(j)\n",
    "        Money.append(IS.at[i,j])\n",
    "\n",
    "EPS = pd.DataFrame(list(zip(Type, Year, Money)), columns =[\"Type\", \"Year\", \"Money\"])"
   ]
  },
  {
   "cell_type": "code",
   "execution_count": 112,
   "id": "b6b4cf88",
   "metadata": {},
   "outputs": [
    {
     "data": {
      "text/plain": [
       "<Figure size 576x576 with 0 Axes>"
      ]
     },
     "metadata": {},
     "output_type": "display_data"
    },
    {
     "data": {
      "image/png": "[encoded data removed]",
      "text/plain": [
       "<Figure size 403.2x288 with 2 Axes>"
      ]
     },
     "metadata": {
      "needs_background": "light"
     },
     "output_type": "display_data"
    }
   ],
   "source": [
    "plt.figure(figsize=(8, 8))\n",
    "ax = sns.catplot(x=\"Year\", y=\"Money\", col=\"Type\",data=EPS, kind=\"strip\",height=4, aspect=.7, color='slateblue')\n",
    "ax.fig.subplots_adjust(top=0.85)\n",
    "ax.fig.suptitle('Earnings Per Share')\n",
    "ax.set(ylim=(0, 10))\n",
    "plt.savefig('ADashboard6.png')"
   ]
  },
  {
   "cell_type": "code",
   "execution_count": 113,
   "id": "a7268ff1",
   "metadata": {},
   "outputs": [
    {
     "name": "stdout",
     "output_type": "stream",
     "text": [
      "{'Label': 'Earnings Per Share', 'Graphs': 2, 'X': 'Year', 'Y': 'Money', 0: {'Label': 'Basic EPS', 'Years': ['2019', '2020', '2021'], 'Values': [2, 3, 5], 'Growth': 3, 'Trend': 'Increase'}, 1: {'Label': 'Diluted EPS', 'Years': ['2019', '2020', '2021'], 'Values': [2, 3, 5], 'Growth': 3, 'Trend': 'Increase'}}\n"
     ]
    }
   ],
   "source": [
    "label = \"Earnings Per Share\"\n",
    "Dashboard6 = toDict(label, EPS, 2)\n",
    "print(Dashboard6)"
   ]
  },
  {
   "cell_type": "markdown",
   "id": "90291465",
   "metadata": {},
   "source": [
    "# JSON"
   ]
  },
  {
   "cell_type": "code",
   "execution_count": 114,
   "id": "9a64b9b0",
   "metadata": {},
   "outputs": [],
   "source": [
    "with open(\"AGraphDict1.json\",\"w\") as outfile:\n",
    "    json.dump(Dashboard1,outfile, indent=3)"
   ]
  },
  {
   "cell_type": "code",
   "execution_count": 115,
   "id": "316b897b",
   "metadata": {},
   "outputs": [],
   "source": [
    "with open(\"AGraphDict2.json\",\"w\") as outfile:\n",
    "    json.dump(Dashboard2,outfile, indent=3)"
   ]
  },
  {
   "cell_type": "code",
   "execution_count": 116,
   "id": "ebcf5a21",
   "metadata": {},
   "outputs": [],
   "source": [
    "with open(\"AGraphDict3.json\",\"w\") as outfile:\n",
    "    json.dump(Dashboard3,outfile, indent=3)"
   ]
  },
  {
   "cell_type": "code",
   "execution_count": 117,
   "id": "b10266b8",
   "metadata": {},
   "outputs": [],
   "source": [
    "with open(\"AGraphDict4.json\",\"w\") as outfile:\n",
    "    json.dump(Dashboard4,outfile, indent=3)"
   ]
  },
  {
   "cell_type": "code",
   "execution_count": 118,
   "id": "4c110324",
   "metadata": {},
   "outputs": [],
   "source": [
    "with open(\"AGraphDict5.json\",\"w\") as outfile:\n",
    "    json.dump(Dashboard5,outfile, indent=3)"
   ]
  },
  {
   "cell_type": "code",
   "execution_count": 119,
   "id": "9b141643",
   "metadata": {},
   "outputs": [],
   "source": [
    "with open(\"AGraphDict6.json\",\"w\") as outfile:\n",
    "    json.dump(Dashboard6,outfile, indent=3)"
   ]
  },
  {
   "cell_type": "code",
   "execution_count": null,
   "id": "88ba1b48",
   "metadata": {},
   "outputs": [],
   "source": []
  }
 ],
 "metadata": {
  "kernelspec": {
   "display_name": "Python 3 (ipykernel)",
   "language": "python",
   "name": "python3"
  },
  "language_info": {
   "codemirror_mode": {
    "name": "ipython",
    "version": 3
   },
   "file_extension": ".py",
   "mimetype": "text/x-python",
   "name": "python",
   "nbconvert_exporter": "python",
   "pygments_lexer": "ipython3",
   "version": "3.10.2"
  }
 },
 "nbformat": 4,
 "nbformat_minor": 5
}
